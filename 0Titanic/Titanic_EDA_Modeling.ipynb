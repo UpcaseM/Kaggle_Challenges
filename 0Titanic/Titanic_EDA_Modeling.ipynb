{
  "cells": [
    {
      "metadata": {
        "_uuid": "f30a1aa965a5f2df88fd854190ec249c301c799e"
      },
      "cell_type": "markdown",
      "source": "https://www.kaggle.com/yassineghouzam/titanic-top-4-with-ensemble-modeling\n\nhttps://www.kaggle.com/ldfreeman3/a-data-science-framework-to-achieve-99-accuracy\n\nhttps://www.kaggle.com/dejavu23/titanic-survival-seaborn-and-ensembles"
    },
    {
      "metadata": {
        "_uuid": "7902243e526eb14ccbabbcfc00898b0caa38455a"
      },
      "cell_type": "markdown",
      "source": "* **1 Introduction**\n* **2 Import Data and Cleansing**\n* **3 Exploratory Data Analysis**\n* **4 Feature Engineering**\n* **5 Modeling**\n"
    },
    {
      "metadata": {
        "_uuid": "4dbed1fbfe2ddf82748570eb571a6a0ddc973eb2"
      },
      "cell_type": "markdown",
      "source": "# **1 Introduction**"
    },
    {
      "metadata": {
        "_uuid": "192c8bdad489bdfee7f1d86f6335df16a5a2c4a1"
      },
      "cell_type": "markdown",
      "source": "I'm starting my Kaggle Competition Challenge with Python. The Titanic dataset is my first stop."
    },
    {
      "metadata": {
        "_uuid": "dabbd4988dcc4370efe36be4d80da4f218f221c1"
      },
      "cell_type": "markdown",
      "source": "# **2 Import Data and Cleansing**"
    },
    {
      "metadata": {
        "_uuid": "8f2839f25d086af736a60e9eeb907d3b93b6e0e5",
        "_cell_guid": "b1076dfc-b9ad-4769-8c92-a6c4dae69d19",
        "trusted": true
      },
      "cell_type": "code",
      "source": "# data analysis and wrangling\nimport pandas as pd\nimport numpy as np\nimport random as rnd\n\n# visualization\nimport seaborn as sns\nimport matplotlib.pyplot as plt\n%matplotlib inline\nsns.set()\n\n#ignore warnings\nimport warnings\nwarnings.filterwarnings('ignore')\n\nimport os\nprint(os.listdir(\"../input\"))",
      "execution_count": null,
      "outputs": []
    },
    {
      "metadata": {
        "_cell_guid": "79c7e3d0-c299-4dcb-8224-4455121ee9b0",
        "_uuid": "d629ff2d2480ee46fbb7e2d37f6b5fab8052498a",
        "trusted": true
      },
      "cell_type": "code",
      "source": "#Importing data\ntrain=pd.read_csv('../input/train.csv')\ntest=pd.read_csv('../input/test.csv')\n#Combine train and test in order to do data cleansing together.\nfull=pd.concat([train,test],axis=0,sort=False,ignore_index=True)\nfull.head()",
      "execution_count": null,
      "outputs": []
    },
    {
      "metadata": {
        "trusted": true,
        "scrolled": true,
        "_uuid": "9bcf7e27999b1739d8424b023c44c5a7b6e90cef"
      },
      "cell_type": "code",
      "source": "full.dtypes",
      "execution_count": null,
      "outputs": []
    },
    {
      "metadata": {
        "trusted": true,
        "_uuid": "0c7305fbf0f7250cc4356268caef895924d52d10"
      },
      "cell_type": "code",
      "source": "#Fill empty and NaNs with NaN\nfull=full.fillna(np.nan)\n#Check missing values\nfull.isnull().sum()",
      "execution_count": null,
      "outputs": []
    },
    {
      "metadata": {
        "trusted": true,
        "_uuid": "ebdbb965c4f04aa534264d3b344fdd3efb234e4a"
      },
      "cell_type": "code",
      "source": "train.isnull().sum()",
      "execution_count": null,
      "outputs": []
    },
    {
      "metadata": {
        "trusted": true,
        "_uuid": "79681612c5f3498775344b3ac77867cc01c983e8"
      },
      "cell_type": "code",
      "source": "#Convert Sex, Pclass and Embarked to Categorical type\nfull['Survived']=full['Survived'].astype('category')\nfull['Sex']=full['Sex'].astype('category')\nfull['Pclass']=full['Pclass'].astype('category')\nfull['Embarked']=full['Embarked'].astype('category')",
      "execution_count": null,
      "outputs": []
    },
    {
      "metadata": {
        "trusted": true,
        "scrolled": true,
        "_uuid": "eede05306c6cc2ceca67770ded463981fa51342c"
      },
      "cell_type": "code",
      "source": "full.describe()",
      "execution_count": null,
      "outputs": []
    },
    {
      "metadata": {
        "_uuid": "15efd0f4be8e66f310b6491864eaeb02abe38aa2"
      },
      "cell_type": "markdown",
      "source": "**Some takeaways:**\n* PassengerId is a index column which is not usefull for modeling; Survived is the dependent variable with value 1 and 0; Pclass, Sex, Embarked are categorical data.\n* Name, Cabin and Ticket contain some extra information.\n* Age, Cabin and Embarked have missing values.\n"
    },
    {
      "metadata": {
        "_uuid": "1d95ead06be7e03ff2b4c136c51e3fc851cb68c4"
      },
      "cell_type": "markdown",
      "source": "# **3 Exploratory Data Analysis**"
    },
    {
      "metadata": {
        "trusted": true,
        "_uuid": "e091718bb3549404f367772109d29d0d14d8fcd0"
      },
      "cell_type": "code",
      "source": "#Convert Sex, Pclass and Embarked to Categorical type\ncat_col=full.select_dtypes(['category']).columns\nfull_cor=full.copy()\nfull_cor[cat_col]=full_cor[cat_col].apply(lambda x: x.cat.codes)",
      "execution_count": null,
      "outputs": []
    },
    {
      "metadata": {
        "trusted": true,
        "_uuid": "75fa33aac784fd7971d02354f3905535f40ec0e4"
      },
      "cell_type": "code",
      "source": "#Correlation matrix to explore feature relations\nfig, ax = plt.subplots(figsize=(10,10))\nsns.heatmap(full_cor.loc[:,['Survived','Sex','Pclass','SibSp','Parch','Age','Fare','Embarked']].corr(),annot=True, fmt = \".2f\", cmap = \"coolwarm\",ax=ax)",
      "execution_count": null,
      "outputs": []
    },
    {
      "metadata": {
        "_uuid": "4b243fdcf7697adfd3492a91b6bfee94db760676"
      },
      "cell_type": "markdown",
      "source": "For the correlation matrix, Sex has relatively high correlation with Survived and SibSp has the lowest correlation.\nWe would like to explore Survived VS each feature, since there are only few features."
    },
    {
      "metadata": {
        "trusted": true,
        "_uuid": "aea012b09408c649ed6fc9f22ae9986abc07a542",
        "scrolled": true
      },
      "cell_type": "code",
      "source": "#Use seaborn graphics for multi-variable comparison: https://seaborn.pydata.org/api.html\nfig = plt.figure(figsize=(21, 12))\ngrid = plt.GridSpec(3, 3)\nax1 = fig.add_subplot(grid[0, :2])\nax2 = fig.add_subplot(grid[0, 2])\nax3 = fig.add_subplot(grid[1, :2])\nax4 = fig.add_subplot(grid[1, 2])\nax5 = fig.add_subplot(grid[2, 0])\nax6 = fig.add_subplot(grid[2, 1])\nax7 = fig.add_subplot(grid[2, 2])\n#Survived VS Sex\nsns.countplot(x='Sex',hue='Survived',data=full.iloc[:len(train)],ax=ax2)\n#Survived VS Pclass\nsns.countplot(x='Pclass',hue='Survived',data=full.iloc[:len(train)],ax=ax4)\n#Survived VS SibSp\nsns.countplot(x='SibSp',hue='Survived',data=full.iloc[:len(train)],ax=ax5)\n#Survived VS Parch\nsns.countplot(x='Parch',hue='Survived',data=full.iloc[:len(train)],ax=ax6)\n#Survived VS Age\nsns.kdeplot(full.iloc[:len(train)][full.iloc[:len(train)]['Age'].notnull()&(full.iloc[:len(train)]['Survived']==1)]['Age'],color='Red',ax=ax1).set(xticks=[i for i in range(0,int(max(full.iloc[:len(train)]['Age'])),4)])\nsns.kdeplot(full.iloc[:len(train)][full.iloc[:len(train)]['Age'].notnull()&(full.iloc[:len(train)]['Survived']==0)]['Age'],color='Blue',ax=ax1).legend([\"Survived\",\"Not Survived\"])\n#Survived VS Fare\nsns.kdeplot(full.iloc[:len(train)][full.iloc[:len(train)]['Fare'].notnull()&(full.iloc[:len(train)]['Survived']==1)]['Fare'],color='Red',ax=ax3).set(xticks=[i for i in range(0,int(max(full.iloc[:len(train)]['Fare'])),20)])\nsns.kdeplot(full.iloc[:len(train)][full.iloc[:len(train)]['Fare'].notnull()&(full.iloc[:len(train)]['Survived']==0)]['Fare'],color='Blue',ax=ax3).legend([\"Survived\",\"Not Survived\"])\n#Survived VS Embarked\nsns.countplot(x='Embarked',hue='Survived',data=full.iloc[:len(train)],ax=ax7)",
      "execution_count": null,
      "outputs": []
    },
    {
      "metadata": {
        "_uuid": "2e796e722af77126b05312a0526c496f5bc82447"
      },
      "cell_type": "markdown",
      "source": "What we learn from the visualization:\n* Chidren (Age<=12) have higher survival rate.\n* Most of the survivers are Females.\n* Passengers who bought a expensive ticket(>=18) are more like to survive.\n* Passengers with no family members(Sibsp=0 & Parch=0) have a higer survival rate.\n* People in the 3 class or embarked from S have a lower rate of surviving the disaster."
    },
    {
      "metadata": {
        "_uuid": "877e3064702528a554efff1ef429fc8742ecad77"
      },
      "cell_type": "markdown",
      "source": "## Missing value imputation\nWe have missing values in Age(263), Fare(1), Cabin(1014)and Embarked(2).\n\nWe learn from the correlation chart that Age is related to Pclass and Sibsp.\n\nFor more info of how to handle missing value, please refer to [here.](https://pandas.pydata.org/pandas-docs/stable/missing_data.html)"
    },
    {
      "metadata": {
        "trusted": true,
        "_uuid": "b79d0885659768552a52a3d472100033031faed2"
      },
      "cell_type": "code",
      "source": "#Distribution of Age and Age VS Pclass and Age VS Sibsp\nsns.kdeplot(full['Age'])\nsns.factorplot(y=\"Age\",x=\"Parch\", data=full,kind=\"box\")\nsns.factorplot(y=\"Age\",x=\"SibSp\", data=full,kind=\"box\")",
      "execution_count": null,
      "outputs": []
    },
    {
      "metadata": {
        "_uuid": "7709b8a88f503745d8e84e4ec36b893a189c75b8"
      },
      "cell_type": "markdown",
      "source": "It's obviouse that the more Parch a passenger has the older he is and the more Sibsp a passenger has the younger he is."
    },
    {
      "metadata": {
        "trusted": true,
        "_uuid": "a297cf6f4ec3273f27332e1694692153e1c38f69"
      },
      "cell_type": "code",
      "source": "#We are fill age with median age of similar rows according to Pclass and Sibsp\nlist_nan=list(full[full['Age'].isnull()].index)\nfor i in list_nan:\n    age_med=full['Age'].median()\n    age_med2=full['Age'][(full['Pclass']==full.iloc[i]['Pclass'])&(full['SibSp']==full.iloc[i]['SibSp'])].median()\n    if np.isnan(age_med2):\n        full['Age'].iloc[i]=age_med\n    else:\n        full['Age'].iloc[i]=age_med2 #We can't use full.iloc[i]['Age']=age_med. Please see link here for more info.https://stackoverflow.com/questions/54211190/whats-the-difference-between-x-iloc1x-and-xx-iloc1",
      "execution_count": null,
      "outputs": []
    },
    {
      "metadata": {
        "trusted": true,
        "_uuid": "adff0d344eb85b195bd06b1e63cdf2a159d6abcc",
        "scrolled": true
      },
      "cell_type": "code",
      "source": "#Check missing values\nprint(full.isnull().sum())\nsns.kdeplot(full['Age'])",
      "execution_count": null,
      "outputs": []
    },
    {
      "metadata": {
        "_uuid": "d5e791ea430ccbd025fe7b219aa035f2079fb4b4"
      },
      "cell_type": "markdown",
      "source": "The imputation didn't change the distrution of the Age. Now let's impute the Fare, Cabin and Embarked."
    },
    {
      "metadata": {
        "trusted": true,
        "_uuid": "33dd2a270cec49bcc1beb2b1fc38e05f37ec0531"
      },
      "cell_type": "code",
      "source": "#Outliers\n#We noticed that there are some extreme values in the Fare and it's very skewed.\n#We will transform it with log function to reduce the skewness.\n#\nfull",
      "execution_count": null,
      "outputs": []
    },
    {
      "metadata": {
        "_uuid": "32cda1322861dd1410c7b11f6f55048d4bfcb576"
      },
      "cell_type": "markdown",
      "source": "# **4 Feature Engineering**"
    },
    {
      "metadata": {
        "_uuid": "dd6b5535bd89906339301aa6a5d6735276df7509"
      },
      "cell_type": "markdown",
      "source": ""
    }
  ],
  "metadata": {
    "kernelspec": {
      "display_name": "Python 3",
      "language": "python",
      "name": "python3"
    },
    "language_info": {
      "name": "python",
      "version": "3.6.6",
      "mimetype": "text/x-python",
      "codemirror_mode": {
        "name": "ipython",
        "version": 3
      },
      "pygments_lexer": "ipython3",
      "nbconvert_exporter": "python",
      "file_extension": ".py"
    }
  },
  "nbformat": 4,
  "nbformat_minor": 1
}